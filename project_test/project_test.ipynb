{
 "cells": [
  {
   "cell_type": "code",
   "execution_count": 51,
   "metadata": {},
   "outputs": [],
   "source": [
    "import pandas as pd\n",
    "import requests\n",
    "from bs4 import BeautifulSoup\n",
    "import re"
   ]
  },
  {
   "cell_type": "code",
   "execution_count": 769,
   "metadata": {},
   "outputs": [],
   "source": [
    "url1 = 'https://elibrary.judiciary.gov.ph/thebookshelf/showdocsfriendly/1/69187'\n",
    "html1 = requests.get(url1)\n",
    "html1.encoding\n",
    "#utf-8 encoding including special characters like ñ\n",
    "soup1 = BeautifulSoup(html1.content.decode(\"utf-8\",\"ignore\"))\n",
    "txt_0 = soup2.get_text()\n",
    "with open('./{}.txt'.format(\"txt_0\"), mode='wt', encoding='utf-8') as file:\n",
    "    file.write(txt_0)\n",
    "\n",
    "\n",
    "\n",
    "url2 = 'https://elibrary.judiciary.gov.ph/thebookshelf/showdocsfriendly/1/69186'\n",
    "html2 = requests.get(url2)\n",
    "html2.encoding\n",
    "#utf-8 encoding including special characters like ñ\n",
    "soup2 = BeautifulSoup(html2.content.decode(\"utf-8\",\"ignore\"))"
   ]
  },
  {
   "cell_type": "code",
   "execution_count": 37,
   "metadata": {},
   "outputs": [],
   "source": [
    "citations  = pd.DataFrame(columns=['Name','Shortname','Docket Nos','Date','Division','Ponente','Citations_Full','Citations'])"
   ]
  },
  {
   "cell_type": "code",
   "execution_count": 49,
   "metadata": {},
   "outputs": [],
   "source": [
    "citations.loc[0] = ['SOUTH COTABATO INTEGRATED PORT SERVICES, INCORPORATED (SCIPSI), AND/OR GABRIEL MUNASQUE AS GENERAL MANAGER, PETITIONERS, VS. OFFICER-IN-CHARGE ROMEO MONTEFALCO, JR., AND MARIA CONSUELO S. BACAY IN THEIR CAPACITIES AS OIC OF BUREAU OF LABOR RELATIONS, MED ARBITER JASMINE M. DEMETILLO AND MAKAR PORT LABOR ORGANIZATION, REPRESENTED BY ITS PRESIDENT, MARIO C. MARIGON, RESPONDENTS',\n",
    "              '',(235569),'December 13, 2023','FIRST DIVISION','GESMUNDO, C.J.',\"[1] Rollo, pp. 11-32. Filed under Rule 45 of the Rules of Court.[2] Id. at 34-44. The Decision in CA-G.R. SP No. 128607 was penned by Associate Justice Eduardo B. Peralta, Jr. and concurred in by Associate Justices Noel G. Tijam (a retired Member of the Court) and Francisco P. Acosta of the Fourth Division of the Court of Appeals, Manila.[3] Id. at 74-75. The Resolution in CA-G.R. SP No. 128607 was penned by Associate Justice Eduardo B. Peralta, Jr. and concurred in by Associate Justices Priscilla J. Baltazar-Padilla (a retired Member of the Court) and Henri Jean Paul B. Inting (now a Member of the Court) of the Special Former Fourth Division of the Court of Appeals, Manila.[4] CA rollo, pp. 39-42, docketed as Case No. R012-SG-IN-001-16-08-10.[5] Id. at 96.[6] Id. at 39-41.[7] Id. at 97.[8] Id. at 98.[9] Id. at 104-105.[10] Id. at 107-108.[11] Id. at 109.[12] Rollo, pp. 84-86. The Order in Case No. R012-SG-IN-001-16-08-10 was penned by Med-Arbiter Jasmin M. Demetillo of the Department of Labor and Employment, Regional Office No. 12, City of Koronadal, South Cotabato.[13] Due to inadvertence, the date of February 11, 2007 was erroneously indicated as February 11, 2010 in the dispositive portion of the December 13, 2010 Order of Med-Arbiter Demetillo.[14] Rollo, p. 86.[15] Id. at 85.[16] Id.[17] Id. at 86.[18] CA rollo, pp. 119-127.[19] Id. at 123.[20] Id. at 128-129.[21] Id.[22] Id. at 130-147, a Memorandum of Appeal.[23] Rollo, pp. 89-94. The Resolution in Case No. BLR-A-TR-8-5-4-11 was penned by Officer-in-Charge Romeo M. Montefalco, Jr. of the DOLE, Bureau of Labor Relations, Manila.[24] Id. at 93-94.[25] Id. at 92.[26] Id. at 92-93.[27] CA rollo, pp. 149-160, 161-164.[28] Id. at 167-180.[29] Id.[30] Id. at 163.[31] Rollo, pp. 96-98.[32] CA rollo, pp. 3-21.[33] Rollo, pp. 41-42.[34] Id. at 43.[35] Id. at 45-54.[36] Id. at 18-19.[37] Id. at 19-20.[38] Id. at 20-22.[39] Id. at 22-23.[40] Id. at 115-116.[41] Id.[42] Id. at 149-164.[43] Id. at 157.[44] Yusen Air and Sea Service Philippines, Inc. v. Villamar, 504 Phil. 437, 447 (2005) [Per J. Garcia, Third Division], citing Multinational Village Homeowners' Association, Inc. v. Court of Appeals, 280 Phil. 113, 117 (1991) [Per J. Cruz, First Division].[45] Vivero v. Court of Appeals, 398 Phil. 158, 165 (2000) [Per J. Bellosillo, Second Division], citing Tolentino v. Court of Appeals, 345 Phil. 448, 456 (1997) [Per J. Kapunan, First Division].[46] San Miguel Foods, Inc. v. San Miguel Corp. Employees Union-PTWGO, 561 Phil. 263, 269 (2007) [Per J. Carpio-Morales, Second Division].[47] Aboitiz Power Renewables, Inc./Tiwi Consolidated Union v. Aboitiz Power Renewables, Inc., 876 Phil. 839, 854 (2020) [Per J. Delos Santos, Second Division], citing San Fernando Coca-Cola Rank-and­File Union (SACORU) v. Coca-Cola Bottlers Philippines, Inc., 819 Phil. 326, 337 (2017) [Per J. Caguioa, Second Division].[48] Insular Life Assurance Co., Ltd. Employees Association-NATU v. Insular Life Assurance Co., Ltd., 147 Phil. 194, 208-209 (1971) [Per J. Ruiz Castro].[49] 331 Phil. 680 (1996) [Per C.J. Narvasa, Third Division].[50] Id. at 693.[51] Id. at 691.[52] DOLE Department Order No. 40-03 dated February 17, 2003, art. I, sec. 1(ii).[53] Id. art. I, sec. 1(bb).[54] CA rollo, p. 39.[55] Id. at 39-41.[56] Art. 259. Unfair Labor Practices of Employers. – It shall be unlawful for an employer to commit any of the following unfair labor practices: (a)To interfere with, restrain or coerce employees in the exercise of their right to self­-organization[.][57] Holy Cross of Davao College, Inc. v. Joaquin, supra note 49 at 691.[58] See LABOR CODE, art. 251(b).[59] Id. art. 250(c).[60] Id., Art. 256. Effect of Inclusion as Members of Employees Outside the Bargaining Unit. – The inclusion as union members of employees outside the bargaining unit shall not be a ground for the cancellation of the registration of the union. Said employees are automatically deemed removed from the list of membership of said union. (Emphasis supplied)[61] NARIC Workers' Union v. Court of Industrial Relations, 113 Phil. 777, 782 (1961) [Per J. Paredes].[62] CA rollo, p. 104, p. 118.[63] Id. at 117.[64] LABOR CODE, art. 250 reads:Art. 250. Rights and Conditions of Membership in a Labor Organization. — ......(g) No officer, agent or member of a labor organization shall collect any fees, dues, or other contributions in its behalf or make any disbursement of its money or funds unless he is duly authorized pursuant to its constitution and by-laws[.][65] Takata (Phils.) Corp. v. Bureau of Labor Relations, 735 Phil. 256, 264 (2014) [Per J. Peralta, Third Division], citing Tamondong v. Court of Appeals, 486 Phil. 729, 741 (2004) [Per J. Callejo, Sr., Second Division].[66] Espino v. National Labor Relations Commission, 310 Phil. 60, 76 (1995) [Per J. Romero, Third Division], citing Dy v. NLRC, 229 Phil. 234, 242 (1986) [Per J. Narvasa, First Division] and Calimlim v. Ramirez, 204 Phil. 25, 37 (1982) [Per J. Vasquez, First Division].[67] De Roca v. Dabuyan, 827 Phil. 98, 112 (2018) [Per J. Del Castillo, First Division], citing Saldana v. Court of Appeals, 268 Phil. 424, 432 (1990) [Per J. Griño-Aquino, First Division].[68] Id.\",\n",
    "'']\n"
   ]
  },
  {
   "cell_type": "code",
   "execution_count": 760,
   "metadata": {},
   "outputs": [],
   "source": [
    "cite_0 = \"\"\"[1] Rollo, pp. 11-32. Filed under Rule 45 of the Rules of Court.[2] Id. at 34-44. The Decision in CA-G.R. SP No. 128607 was penned by Associate Justice Eduardo B. Peralta, Jr. and concurred in by Associate Justices Noel G. Tijam (a retired Member of the Court) and Francisco P. Acosta of the Fourth Division of the Court of Appeals, Manila.[3] Id. at 74-75. The Resolution in CA-G.R. SP No. 128607 was penned by Associate Justice Eduardo B. Peralta, Jr. and concurred in by Associate Justices Priscilla J. Baltazar-Padilla (a retired Member of the Court) and Henri Jean Paul B. Inting (now a Member of the Court) of the Special Former Fourth Division of the Court of Appeals, Manila.[4] CA rollo, pp. 39-42, docketed as Case No. R012-SG-IN-001-16-08-10.[5] Id. at 96.[6] Id. at 39-41.[7] Id. at 97.[8] Id. at 98.[9] Id. at 104-105.[10] Id. at 107-108.[11] Id. at 109.[12] Rollo, pp. 84-86. The Order in Case No. R012-SG-IN-001-16-08-10 was penned by Med-Arbiter Jasmin M. Demetillo of the Department of Labor and Employment, Regional Office No. 12, City of Koronadal, South Cotabato.[13] Due to inadvertence, the date of February 11, 2007 was erroneously indicated as February 11, 2010 in the dispositive portion of the December 13, 2010 Order of Med-Arbiter Demetillo.[14] Rollo, p. 86.[15] Id. at 85.[16] Id.[17] Id. at 86.[18] CA rollo, pp. 119-127.[19] Id. at 123.[20] Id. at 128-129.[21] Id.[22] Id. at 130-147, a Memorandum of Appeal.[23] Rollo, pp. 89-94. The Resolution in Case No. BLR-A-TR-8-5-4-11 was penned by Officer-in-Charge Romeo M. Montefalco, Jr. of the DOLE, Bureau of Labor Relations, Manila.[24] Id. at 93-94.[25] Id. at 92.[26] Id. at 92-93.[27] CA rollo, pp. 149-160, 161-164.[28] Id. at 167-180.[29] Id.[30] Id. at 163.[31] Rollo, pp. 96-98.[32] CA rollo, pp. 3-21.[33] Rollo, pp. 41-42.[34] Id. at 43.[35] Id. at 45-54.[36] Id. at 18-19.[37] Id. at 19-20.[38] Id. at 20-22.[39] Id. at 22-23.[40] Id. at 115-116.[41] Id.[42] Id. at 149-164.[43] Id. at 157.[44] Yusen Air and Sea Service Philippines, Inc. v. Villamar, 504 Phil. 437, 447 (2005) [Per J. Garcia, Third Division], citing Multinational Village Homeowners' Association, Inc. v. Court of Appeals, 280 Phil. 113, 117 (1991) [Per J. Cruz, First Division].[45] Vivero v. Court of Appeals, 398 Phil. 158, 165 (2000) [Per J. Bellosillo, Second Division], citing Tolentino v. Court of Appeals, 345 Phil. 448, 456 (1997) [Per J. Kapunan, First Division].[46] San Miguel Foods, Inc. v. San Miguel Corp. Employees Union-PTWGO, 561 Phil. 263, 269 (2007) [Per J. Carpio-Morales, Second Division].[47] Aboitiz Power Renewables, Inc./Tiwi Consolidated Union v. Aboitiz Power Renewables, Inc., 876 Phil. 839, 854 (2020) [Per J. Delos Santos, Second Division], citing San Fernando Coca-Cola Rank-and­File Union (SACORU) v. Coca-Cola Bottlers Philippines, Inc., 819 Phil. 326, 337 (2017) [Per J. Caguioa, Second Division].[48] Insular Life Assurance Co., Ltd. Employees Association-NATU v. Insular Life Assurance Co., Ltd., 147 Phil. 194, 208-209 (1971) [Per J. Ruiz Castro].[49] 331 Phil. 680 (1996) [Per C.J. Narvasa, Third Division].[50] Id. at 693.[51] Id. at 691.[52] DOLE Department Order No. 40-03 dated February 17, 2003, art. I, sec. 1(ii).[53] Id. art. I, sec. 1(bb).[54] CA rollo, p. 39.[55] Id. at 39-41.[56] Art. 259. Unfair Labor Practices of Employers. – It shall be unlawful for an employer to commit any of the following unfair labor practices: (a)To interfere with, restrain or coerce employees in the exercise of their right to self­-organization[.][57] Holy Cross of Davao College, Inc. v. Joaquin, supra note 49 at 691.[58] See LABOR CODE, art. 251(b).[59] Id. art. 250(c).[60] Id., Art. 256. Effect of Inclusion as Members of Employees Outside the Bargaining Unit. – The inclusion as union members of employees outside the bargaining unit shall not be a ground for the cancellation of the registration of the union. Said employees are automatically deemed removed from the list of membership of said union. (Emphasis supplied)[61] NARIC Workers' Union v. Court of Industrial Relations, 113 Phil. 777, 782 (1961) [Per J. Paredes].[62] CA rollo, p. 104, p. 118.[63] Id. at 117.[64] LABOR CODE, art. 250 reads:Art. 250. Rights and Conditions of Membership in a Labor Organization. — ......(g) No officer, agent or member of a labor organization shall collect any fees, dues, or other contributions in its behalf or make any disbursement of its money or funds unless he is duly authorized pursuant to its constitution and by-laws[.][65] Takata (Phils.) Corp. v. Bureau of Labor Relations, 735 Phil. 256, 264 (2014) [Per J. Peralta, Third Division], citing Tamondong v. Court of Appeals, 486 Phil. 729, 741 (2004) [Per J. Callejo, Sr., Second Division].[66] Espino v. National Labor Relations Commission, 310 Phil. 60, 76 (1995) [Per J. Romero, Third Division], citing Dy v. NLRC, 229 Phil. 234, 242 (1986) [Per J. Narvasa, First Division] and Calimlim v. Ramirez, 204 Phil. 25, 37 (1982) [Per J. Vasquez, First Division].[67] De Roca v. Dabuyan, 827 Phil. 98, 112 (2018) [Per J. Del Castillo, First Division], citing Saldana v. Court of Appeals, 268 Phil. 424, 432 (1990) [Per J. Griño-Aquino, First Division].[68] Id.\"\"\"\n",
    "cite_1 = \"\"\"[1] Rollo, pp. 4-27.[2] Id. at 29-37; penned by Associate Justice Oscar V. Badelles and concurred in by Associate Justices Romulo V. Borja and Edward B. Contreras.[3] Id. at 39-40.[4] Id. at 68-74; penned by Judge Panambulan M. Mimbisa.[5] Also referred to as \"Gabriel Estocapio, Jr.\" in some parts of the rollo (see rollo, pp. 8 and 69).[6] Dropped as respondent per Resolution dated January 11, 2017 for failure of counsel for petitioner to comply with the Resolution dated August 17, 2016 which required petitioner to inform the Court of the correct and present address of respondent LK Fishing Corp. within the period which expired on September 24, 2016; see rollo, p. 179.[7] Records, p. 3.[8] Id. at 3-4.[9] Id. at 4-5.[10] Id. at 13.[11] Id. at 5.[12] Id. at 14.[13] Id. at 15-16.[14] Id. at 2-7.[15] Id. at 5-6.[16] Id. at 27-32.[17] Id. at 28-30.[18] Id. at 69-74.[19] Id. at 71-72. [20] Rollo, pp. 73-74.[21] Id. at 71-72.[22] Id. at 72-73.[23] Records, pp. 309-310.[24] Rollo, p. 34.[25] Id. at 35.[26] Id. at 35-36.[27] Id. at 36.[28] Id. at 12-13.[29] Id. at 55-66.[30] Id. at 59-60.[31] Id. at 61-62.[32] Id. at 20.[33] Id. at 20-21.[34] Id. at 24.[35] Id. at 21-22.[36] Id. at 19-20.[37] Id. at 18-19.[38] Id. at 62.[39] Records, pp. 57-58.[40] Id. at 76-77.[41] Id. at 76.[42] Id. at 281-285.[43] Id. at 281.[44] Id. at 182.[45] Rollo, pp. 25-26.[46] Commissioner of Internal Revenue v. United Salvage and Towage (Phils.), Inc., 738 Phil. 335, 344-345 (2014).[47] Records, p. 33.[48] Id.[49] Id.[50] Id. at 182.[51] Id. at 281.[52] TSN, July 10, 2003, pp. 15-17.[53] Records, pp. 69-74.[54] Id. at 71.[55] Sec. 4. Judicial admissions. – An admission, verbal or written, made by the party in the course of the proceedings in the same case, does not require proof. The admission may be contradicted only by showing that it was made through palpable mistake or that no such admission was made.[56] Rollo, p. 14.[57] Id. at l7.[58] Sec. 137. Liability of Drawee Retaining or Destroying Bill. – Where a drawee to whom a bill is delivered for acceptance destroys the same, or refuses within twenty-four hours after such delivery or within such other period as the holder may allow, to return the bill accepted or non-accepted to the holder, he will be deemed to have accepted the same.[59] Sec. 151. Right of Holder Where Bill Not Accepted. – When a bill is dishonored by non-acceptance, an immediate right of recourse against the drawer and indorsers accrues to the holder and no presentment for payment is necessary.[60] Rollo, pp. 17-18.[61] Records, p. 187.[62] Aquino, T.B. (2003), Notes and Cases on Banks. Negotiable Instruments and Other Commercial Documents, p. 416.[63] Id. at 416-417.[64] 300 Phil. 859 (1994).[65] Id. at 865-866.[66] Equitable PCI Bank v. Ong, 533 Phil. 415, 432 (2006).[67] Article 2219. Moral damages may be recovered in the following and analogous cases:(1) A criminal offense resulting in physical injuries;(2) Quasi-delicts causing physical injuries;(3) Seduction, abduction, rape, or other lascivious acts;(4) Adultery or concubinage;(5) Illegal or arbitrary detention or arrest;(6) Illegal search;(7) Libel, slander or any other form of defamation;(8) Malicious prosecution;(9) Acts mentioned in article 309;(10) Acts and actions referred to in articles 21, 26, 27, 28, 29, 30, 32, 34, and 35.The parents of the female seduced, abducted, raped, or abused, referred to in No. 3 of this article, may also recover moral damages.The spouse, descendants, ascendants, and brothers and sisters may bring the action mentioned in No. 9 of this article, in the order named.[68] Article 2220. Willful injury to property may be a legal ground for awarding moral damages if the court should find that, under the circumstances, such damages are justly due. The same rule applies to breaches of contract where the defendant acted fraudulently or in bad faith.[69] Equitable PCI Bank v. Ong, supra at 432-433.[70] Article 2229. Exemplary or corrective damages are imposed, by way of example or correction for the public good, in addition to the moral, temperate, liquidated or compensatory damages.[71] Solidbank Corporation v. Spouses Arrieta, 492 Phil. 95, 105 (2005).[72] Equitable PCI Bank v. Ong, supra at 434.[73] Records, p. 182.[74] Id. at 187.[75] Id. at 183.[76] Id. at 189-190.[77] TSN, October 2, 2003, pp. 24-27.[78] Equitable PCI Bank v. Ong, supra at 434.[79] Solidbank Corp. v. Spouses Arrieta, supra at 106.[80] G.R. No. 225433, September 20, 2022.[81] Id.[82] Records, p. 14.[83] Sec. 1. The rate of interest for the loan or forbearance of any money, goods or credits and the rate allowed in judgments, in the absence of an express contract as to such rate of interest, shall be six percent (6%) per annum. (Circular took effect on July 1, 2013).[84] Crismina Garments, Inc. v. Court of Appeals, 363 Phil. 701, 709 (1999), citing footnote 16 of Eastern Shipping lines, Inc. v. Court of Appeals, 304 Phil. 236 (1994), to wit: \"Black's Law Dictionary (1990 ed., 644) citing the case of Hafer v. Spaeth, 22 Wash. 2d 378, 156 P. 2d 408, 411 defines the word forbearance, within the context of usury law, as a contractual obligation of lender or creditor to refrain, during given period of time, from requiring borrower or debtor to repay loan or debt then due and payable.\"\"\"\"\""
   ]
  },
  {
   "cell_type": "code",
   "execution_count": 761,
   "metadata": {},
   "outputs": [],
   "source": [
    "def get_cite(*args):\n",
    "    regex = r'(?=\\[\\d+](.*?)\\.\\[)' #or r'(?=(\\[\\d+].*?)\\.\\[)'\n",
    "    regex2 = (r'^(\\[\\d+].*\\.\\[)(.*?)$')\n",
    "    cited = re.findall(regex,*args)\n",
    "    #append last \n",
    "    cited.append((re.findall(r'^\\[\\d+].*\\.\\[\\d+]\\s(.*?)$',*args))[-1])\n",
    "    return cited"
   ]
  },
  {
   "cell_type": "code",
   "execution_count": 762,
   "metadata": {},
   "outputs": [
    {
     "name": "stdout",
     "output_type": "stream",
     "text": [
      "[' Rollo, pp. 4-27', ' Id. at 29-37; penned by Associate Justice Oscar V. Badelles and concurred in by Associate Justices Romulo V. Borja and Edward B. Contreras', ' Id. at 39-40', ' Id. at 68-74; penned by Judge Panambulan M. Mimbisa', ' Also referred to as \"Gabriel Estocapio, Jr.\" in some parts of the rollo (see rollo, pp. 8 and 69)', ' Dropped as respondent per Resolution dated January 11, 2017 for failure of counsel for petitioner to comply with the Resolution dated August 17, 2016 which required petitioner to inform the Court of the correct and present address of respondent LK Fishing Corp. within the period which expired on September 24, 2016; see rollo, p. 179', ' Records, p. 3', ' Id. at 3-4', ' Id. at 4-5', ' Id. at 13', ' Id. at 5', ' Id. at 14', ' Id. at 15-16', ' Id. at 2-7', ' Id. at 5-6', ' Id. at 27-32', ' Id. at 28-30', ' Id. at 69-74', ' Id. at 71-72. [20] Rollo, pp. 73-74', ' Rollo, pp. 73-74', ' Id. at 71-72', ' Id. at 72-73', ' Records, pp. 309-310', ' Rollo, p. 34', ' Id. at 35', ' Id. at 35-36', ' Id. at 36', ' Id. at 12-13', ' Id. at 55-66', ' Id. at 59-60', ' Id. at 61-62', ' Id. at 20', ' Id. at 20-21', ' Id. at 24', ' Id. at 21-22', ' Id. at 19-20', ' Id. at 18-19', ' Id. at 62', ' Records, pp. 57-58', ' Id. at 76-77', ' Id. at 76', ' Id. at 281-285', ' Id. at 281', ' Id. at 182', ' Rollo, pp. 25-26', ' Commissioner of Internal Revenue v. United Salvage and Towage (Phils.), Inc., 738 Phil. 335, 344-345 (2014)', ' Records, p. 33', ' Id', ' Id', ' Id. at 182', ' Id. at 281', ' TSN, July 10, 2003, pp. 15-17', ' Records, pp. 69-74', ' Id. at 71', ' Sec. 4. Judicial admissions. – An admission, verbal or written, made by the party in the course of the proceedings in the same case, does not require proof. The admission may be contradicted only by showing that it was made through palpable mistake or that no such admission was made', ' Rollo, p. 14', ' Id. at l7', ' Sec. 137. Liability of Drawee Retaining or Destroying Bill. – Where a drawee to whom a bill is delivered for acceptance destroys the same, or refuses within twenty-four hours after such delivery or within such other period as the holder may allow, to return the bill accepted or non-accepted to the holder, he will be deemed to have accepted the same', ' Sec. 151. Right of Holder Where Bill Not Accepted. – When a bill is dishonored by non-acceptance, an immediate right of recourse against the drawer and indorsers accrues to the holder and no presentment for payment is necessary', ' Rollo, pp. 17-18', ' Records, p. 187', ' Aquino, T.B. (2003), Notes and Cases on Banks. Negotiable Instruments and Other Commercial Documents, p. 416', ' Id. at 416-417', ' 300 Phil. 859 (1994)', ' Id. at 865-866', ' Equitable PCI Bank v. Ong, 533 Phil. 415, 432 (2006)', ' Article 2219. Moral damages may be recovered in the following and analogous cases:(1) A criminal offense resulting in physical injuries;(2) Quasi-delicts causing physical injuries;(3) Seduction, abduction, rape, or other lascivious acts;(4) Adultery or concubinage;(5) Illegal or arbitrary detention or arrest;(6) Illegal search;(7) Libel, slander or any other form of defamation;(8) Malicious prosecution;(9) Acts mentioned in article 309;(10) Acts and actions referred to in articles 21, 26, 27, 28, 29, 30, 32, 34, and 35.The parents of the female seduced, abducted, raped, or abused, referred to in No. 3 of this article, may also recover moral damages.The spouse, descendants, ascendants, and brothers and sisters may bring the action mentioned in No. 9 of this article, in the order named', ' Article 2220. Willful injury to property may be a legal ground for awarding moral damages if the court should find that, under the circumstances, such damages are justly due. The same rule applies to breaches of contract where the defendant acted fraudulently or in bad faith', ' Equitable PCI Bank v. Ong, supra at 432-433', ' Article 2229. Exemplary or corrective damages are imposed, by way of example or correction for the public good, in addition to the moral, temperate, liquidated or compensatory damages', ' Solidbank Corporation v. Spouses Arrieta, 492 Phil. 95, 105 (2005)', ' Equitable PCI Bank v. Ong, supra at 434', ' Records, p. 182', ' Id. at 187', ' Id. at 183', ' Id. at 189-190', ' TSN, October 2, 2003, pp. 24-27', ' Equitable PCI Bank v. Ong, supra at 434', ' Solidbank Corp. v. Spouses Arrieta, supra at 106', ' G.R. No. 225433, September 20, 2022', ' Id', ' Records, p. 14', ' Sec. 1. The rate of interest for the loan or forbearance of any money, goods or credits and the rate allowed in judgments, in the absence of an express contract as to such rate of interest, shall be six percent (6%) per annum. (Circular took effect on July 1, 2013)', 'Crismina Garments, Inc. v. Court of Appeals, 363 Phil. 701, 709 (1999), citing footnote 16 of Eastern Shipping lines, Inc. v. Court of Appeals, 304 Phil. 236 (1994), to wit: \"Black\\'s Law Dictionary (1990 ed., 644) citing the case of Hafer v. Spaeth, 22 Wash. 2d 378, 156 P. 2d 408, 411 defines the word forbearance, within the context of usury law, as a contractual obligation of lender or creditor to refrain, during given period of time, from requiring borrower or debtor to repay loan or debt then due and payable.']\n"
     ]
    }
   ],
   "source": [
    "citations_0 = get_cite(cite_0)\n",
    "citations_1 = get_cite(cite_1)\n"
   ]
  },
  {
   "cell_type": "code",
   "execution_count": 765,
   "metadata": {},
   "outputs": [
    {
     "name": "stdout",
     "output_type": "stream",
     "text": [
      "[' Rollo, pp. 11-32. Filed under Rule 45 of the Rules of Court', ' Id. at 34-44. The Decision in CA-G.R. SP No. 128607 was penned by Associate Justice Eduardo B. Peralta, Jr. and concurred in by Associate Justices Noel G. Tijam (a retired Member of the Court) and Francisco P. Acosta of the Fourth Division of the Court of Appeals, Manila', ' Id. at 74-75. The Resolution in CA-G.R. SP No. 128607 was penned by Associate Justice Eduardo B. Peralta, Jr. and concurred in by Associate Justices Priscilla J. Baltazar-Padilla (a retired Member of the Court) and Henri Jean Paul B. Inting (now a Member of the Court) of the Special Former Fourth Division of the Court of Appeals, Manila', ' CA rollo, pp. 39-42, docketed as Case No. R012-SG-IN-001-16-08-10', ' Id. at 96', ' Id. at 39-41', ' Id. at 97', ' Id. at 98', ' Id. at 104-105', ' Id. at 107-108', ' Id. at 109', ' Rollo, pp. 84-86. The Order in Case No. R012-SG-IN-001-16-08-10 was penned by Med-Arbiter Jasmin M. Demetillo of the Department of Labor and Employment, Regional Office No. 12, City of Koronadal, South Cotabato', ' Due to inadvertence, the date of February 11, 2007 was erroneously indicated as February 11, 2010 in the dispositive portion of the December 13, 2010 Order of Med-Arbiter Demetillo', ' Rollo, p. 86', ' Id. at 85', ' Id', ' Id. at 86', ' CA rollo, pp. 119-127', ' Id. at 123', ' Id. at 128-129', ' Id', ' Id. at 130-147, a Memorandum of Appeal', ' Rollo, pp. 89-94. The Resolution in Case No. BLR-A-TR-8-5-4-11 was penned by Officer-in-Charge Romeo M. Montefalco, Jr. of the DOLE, Bureau of Labor Relations, Manila', ' Id. at 93-94', ' Id. at 92', ' Id. at 92-93', ' CA rollo, pp. 149-160, 161-164', ' Id. at 167-180', ' Id', ' Id. at 163', ' Rollo, pp. 96-98', ' CA rollo, pp. 3-21', ' Rollo, pp. 41-42', ' Id. at 43', ' Id. at 45-54', ' Id. at 18-19', ' Id. at 19-20', ' Id. at 20-22', ' Id. at 22-23', ' Id. at 115-116', ' Id', ' Id. at 149-164', ' Id. at 157', \" Yusen Air and Sea Service Philippines, Inc. v. Villamar, 504 Phil. 437, 447 (2005) [Per J. Garcia, Third Division], citing Multinational Village Homeowners' Association, Inc. v. Court of Appeals, 280 Phil. 113, 117 (1991) [Per J. Cruz, First Division]\", ' Vivero v. Court of Appeals, 398 Phil. 158, 165 (2000) [Per J. Bellosillo, Second Division], citing Tolentino v. Court of Appeals, 345 Phil. 448, 456 (1997) [Per J. Kapunan, First Division]', ' San Miguel Foods, Inc. v. San Miguel Corp. Employees Union-PTWGO, 561 Phil. 263, 269 (2007) [Per J. Carpio-Morales, Second Division]', ' Aboitiz Power Renewables, Inc./Tiwi Consolidated Union v. Aboitiz Power Renewables, Inc., 876 Phil. 839, 854 (2020) [Per J. Delos Santos, Second Division], citing San Fernando Coca-Cola Rank-and\\xadFile Union (SACORU) v. Coca-Cola Bottlers Philippines, Inc., 819 Phil. 326, 337 (2017) [Per J. Caguioa, Second Division]', ' Insular Life Assurance Co., Ltd. Employees Association-NATU v. Insular Life Assurance Co., Ltd., 147 Phil. 194, 208-209 (1971) [Per J. Ruiz Castro]', ' 331 Phil. 680 (1996) [Per C.J. Narvasa, Third Division]', ' Id. at 693', ' Id. at 691', ' DOLE Department Order No. 40-03 dated February 17, 2003, art. I, sec. 1(ii)', ' Id. art. I, sec. 1(bb)', ' CA rollo, p. 39', ' Id. at 39-41', ' Art. 259. Unfair Labor Practices of Employers. – It shall be unlawful for an employer to commit any of the following unfair labor practices: (a)To interfere with, restrain or coerce employees in the exercise of their right to self\\xad-organization[.][57] Holy Cross of Davao College, Inc. v. Joaquin, supra note 49 at 691', ' Holy Cross of Davao College, Inc. v. Joaquin, supra note 49 at 691', ' See LABOR CODE, art. 251(b)', ' Id. art. 250(c)', \" Id., Art. 256. Effect of Inclusion as Members of Employees Outside the Bargaining Unit. – The inclusion as union members of employees outside the bargaining unit shall not be a ground for the cancellation of the registration of the union. Said employees are automatically deemed removed from the list of membership of said union. (Emphasis supplied)[61] NARIC Workers' Union v. Court of Industrial Relations, 113 Phil. 777, 782 (1961) [Per J. Paredes]\", \" NARIC Workers' Union v. Court of Industrial Relations, 113 Phil. 777, 782 (1961) [Per J. Paredes]\", ' CA rollo, p. 104, p. 118', ' Id. at 117', ' LABOR CODE, art. 250 reads:Art. 250. Rights and Conditions of Membership in a Labor Organization. — ......(g) No officer, agent or member of a labor organization shall collect any fees, dues, or other contributions in its behalf or make any disbursement of its money or funds unless he is duly authorized pursuant to its constitution and by-laws[.][65] Takata (Phils.) Corp. v. Bureau of Labor Relations, 735 Phil. 256, 264 (2014) [Per J. Peralta, Third Division], citing Tamondong v. Court of Appeals, 486 Phil. 729, 741 (2004) [Per J. Callejo, Sr., Second Division]', ' Takata (Phils.) Corp. v. Bureau of Labor Relations, 735 Phil. 256, 264 (2014) [Per J. Peralta, Third Division], citing Tamondong v. Court of Appeals, 486 Phil. 729, 741 (2004) [Per J. Callejo, Sr., Second Division]', ' Espino v. National Labor Relations Commission, 310 Phil. 60, 76 (1995) [Per J. Romero, Third Division], citing Dy v. NLRC, 229 Phil. 234, 242 (1986) [Per J. Narvasa, First Division] and Calimlim v. Ramirez, 204 Phil. 25, 37 (1982) [Per J. Vasquez, First Division]', ' De Roca v. Dabuyan, 827 Phil. 98, 112 (2018) [Per J. Del Castillo, First Division], citing Saldana v. Court of Appeals, 268 Phil. 424, 432 (1990) [Per J. Griño-Aquino, First Division]', 'Id.']\n"
     ]
    }
   ],
   "source": [
    "print(citations_0)"
   ]
  },
  {
   "cell_type": "code",
   "execution_count": null,
   "metadata": {},
   "outputs": [],
   "source": []
  },
  {
   "cell_type": "code",
   "execution_count": null,
   "metadata": {},
   "outputs": [],
   "source": []
  },
  {
   "cell_type": "code",
   "execution_count": null,
   "metadata": {},
   "outputs": [],
   "source": []
  },
  {
   "cell_type": "code",
   "execution_count": null,
   "metadata": {},
   "outputs": [],
   "source": []
  },
  {
   "cell_type": "code",
   "execution_count": null,
   "metadata": {},
   "outputs": [],
   "source": []
  }
 ],
 "metadata": {
  "kernelspec": {
   "display_name": "Python 3",
   "language": "python",
   "name": "python3"
  },
  "language_info": {
   "codemirror_mode": {
    "name": "ipython",
    "version": 3
   },
   "file_extension": ".py",
   "mimetype": "text/x-python",
   "name": "python",
   "nbconvert_exporter": "python",
   "pygments_lexer": "ipython3",
   "version": "3.12.6"
  }
 },
 "nbformat": 4,
 "nbformat_minor": 2
}
